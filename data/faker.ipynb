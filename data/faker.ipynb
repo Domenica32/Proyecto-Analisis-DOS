{
 "cells": [
  {
   "attachments": {},
   "cell_type": "markdown",
   "metadata": {},
   "source": [
    "## CREACION DE LOS ARCHIVOS CON HEADERS"
   ]
  },
  {
   "cell_type": "code",
   "execution_count": 4,
   "metadata": {},
   "outputs": [
    {
     "data": {
      "text/plain": [
       "100"
      ]
     },
     "execution_count": 4,
     "metadata": {},
     "output_type": "execute_result"
    }
   ],
   "source": [
    "from faker import Faker\n",
    "import csv \n",
    "import random\n",
    "#Proforma\n",
    "hdProforma = ['numero', 'fecha', 'vendedor','numero_cliente' ,'subtotal','iva','total','descripcion']\n",
    "proformasF = open('proformas.csv', 'w', encoding='UTF8', newline='')\n",
    "wrProformas = csv.writer(proformasF)\n",
    "wrProformas.writerow(hdProforma)\n",
    "\n",
    "#Contratos\n",
    "sectores = ['Gubernamental','Banca','Educacion','Comunicaciones','Alimentos']\n",
    "hdContratos = ['numero_contrato', 'numero_proforma', 'fecha_inicio', 'fecha_fin','descripcion','horas_contratadas','tipo_solucion_tecnologica']\n",
    "contratosF = open('contratos.csv', 'w', encoding='UTF8', newline='')\n",
    "wrContratos = csv.writer(contratosF)\n",
    "wrContratos.writerow(hdContratos)\n",
    "\n",
    "#Detalle Contratos\n",
    "hdDetalleContratos = ['numero_contrato', 'inversion','ganancia' ,'valor_hora_estimado']\n",
    "d_ContratosF = open('wrd_Contratos.csv', 'w', encoding='UTF8', newline='')\n",
    "wrd_Contratos = csv.writer(d_ContratosF)\n",
    "wrd_Contratos.writerow(hdDetalleContratos)\n",
    "\n",
    "#Servicios\n",
    "hdServicios = ['numero_servicio', 'horas', 'numero_contrato_servicio','tecnico' ,'costos_extras','costos_subsanados','descripcion']\n",
    "serviciosF = open('servicios.csv', 'w', encoding='UTF8', newline='')\n",
    "wrServicios = csv.writer(serviciosF)\n",
    "wrServicios.writerow(hdServicios)"
   ]
  },
  {
   "cell_type": "code",
   "execution_count": 5,
   "metadata": {},
   "outputs": [],
   "source": [
    "import random\n",
    "def generarClientes():\n",
    "    sectores = ['Gubernamental','Banca','Educacion','Comunicaciones','Alimentos']\n",
    "    header = ['numero_cliente', 'nombre', 'direccion', 'telefono','correo','sector','representante']\n",
    "    fake = Faker('es_ES')\n",
    "    fake1 = Faker('en_US')\n",
    "    clientes =[]\n",
    "    with open('clientes.csv', 'w', encoding='UTF8', newline='') as f:\n",
    "        writer = csv.writer(f)\n",
    "        # write the header\n",
    "        writer.writerow(header)\n",
    "        for _ in range(1,100):\n",
    "            #['numero_cliente', 'nombre', 'direccion', 'telefono','correo','sector','representante']\n",
    "            clientes += [[_,fake1.company(),fake.address(),fake.phone_number(),fake.email(),\n",
    "            random.choice(sectores),fake1.name()]]\n",
    "            #print(clientes)\n",
    "        # write multiple rows\n",
    "        writer.writerows(clientes)\n",
    "    return clientes"
   ]
  },
  {
   "cell_type": "code",
   "execution_count": 6,
   "metadata": {},
   "outputs": [],
   "source": [
    "from faker import Faker\n",
    "from datetime import timedelta, date,datetime\n",
    "tipos_solucion = ['RP','TELEFONICA','SEGURIDAD','STORAGE','IMPRESION','AZURE','OFFICE 365','CALL CENTER','HIPERCONVERGENCIA']\n",
    "costos_horas= {'RP':15,'TELEFONICA':10,'SEGURIDAD':12,'STORAGE':12,'IMPRESION':13,'AZURE':17,'OFFICE 365':20,'CALL CENTER':16,'HIPERCONVERGENCIA':20}\n",
    "#Lista de objetos\n",
    "proformas =[]\n",
    "contratos =[]\n",
    "d_Contratos =[]\n",
    "servicios =[]\n",
    "numContratos = 0\n",
    "numServicio = 0\n",
    "#Generadores de faker\n",
    "fake = Faker('es_ES')\n",
    "fakeEs = Faker('en_US')\n",
    "clientes = generarClientes()\n",
    "\n",
    "for numProforma in range(1,300):\n",
    "    fechaProforma = fake.date_this_year()\n",
    "    #print('fecha:',fechaProforma)\n",
    "    subtotal = round(random.uniform(3000,20000),2)\n",
    "    iva = subtotal * 0.12\n",
    "    total = subtotal + iva\n",
    "    #['numero', 'fecha', 'vendedor','cliente' ,'subtotal','iva','total','descripcion']\n",
    "    proformas += [[numProforma,fechaProforma,fake.name(),random.randint(1,len(clientes)),subtotal,iva,total,fakeEs.text()]]\n",
    "    hayContrato = bool(random.choice([True, False]))\n",
    "    #fechaInicio = fake.date.soon(random.randint(0,30),fechaProforma)\n",
    "    if hayContrato:\n",
    "        maximo_aceptacion = fechaProforma+timedelta(days=random.randint(1,30))\n",
    "        fechaInicio = fake.date_between(fechaProforma,end_date=maximo_aceptacion)\n",
    "        meses = random.randint(6,36)\n",
    "        end_date=fechaInicio+timedelta(30*meses)\n",
    "        fechaFin = fake.date_between(fechaInicio,end_date=end_date)\n",
    "        numContratos+=1\n",
    "        #['numero_contrato', 'numero_proforma', 'fecha_inicio', 'fecha_fin','descripcion','horas_contratadas','tipo_solucion_tecnologica']\n",
    "        tipoSolucion = random.choice(tipos_solucion)\n",
    "        valorHora = costos_horas[tipoSolucion]\n",
    "        horasContratadas = random.randint(10,1500)\n",
    "        while horasContratadas*valorHora > total*0.6:\n",
    "            horasContratadas = random.randint(10,1500)\n",
    "        contratos += [[numContratos,numProforma,fechaInicio,fechaFin,fakeEs.text(),horasContratadas,random.choice(tipos_solucion)]]\n",
    "        #Guardar los detalles del contrato\n",
    "        #['numero_contrato', 'inversion','ganancia' ,'valor_hora_estimado']\n",
    "        inversion = round(random.uniform(horasContratadas,total*0.8),2)\n",
    "        inversion > valorHora * horasContratadas\n",
    "        d_Contratos+=[[numContratos,inversion,total,valorHora]]\n",
    "        cantidadServicios = random.randint(1,20)\n",
    "        for _ in range(cantidadServicios):\n",
    "            numServicio+=1\n",
    "            #['numero_servicio', 'horas', 'numero_contrato','tecnico' ,'costos_extras','costos_extras_subsanados','descripcion']\n",
    "            horas = random.randint(1,72)\n",
    "            hayExtras = bool(random.choice([True, False]))\n",
    "            costos_extras = 'null'\n",
    "            costos_extras_subsanados = 'null'\n",
    "            if hayExtras:\n",
    "                costos_extras = round(random.uniform(1,10000),2)\n",
    "                subsanados = bool(random.choice([True, False]))\n",
    "                if subsanados:\n",
    "                    costos_extras_subsanados = round(random.uniform(1,2000),2)\n",
    "\n",
    "            servicios+=[[numServicio,horas,numContratos,fakeEs.name(), costos_extras ,costos_extras_subsanados,fakeEs.text()]]\n",
    "        \n",
    "# write multiple rows\n",
    "\n",
    "wrProformas.writerows(proformas)\n",
    "wrContratos.writerows(contratos)\n",
    "wrd_Contratos.writerows(d_Contratos)\n",
    "wrServicios.writerows(servicios)\n",
    "\n",
    "proformasF.close()\n",
    "contratosF.close()\n",
    "d_ContratosF.close()\n",
    "serviciosF.close()"
   ]
  },
  {
   "cell_type": "code",
   "execution_count": null,
   "metadata": {},
   "outputs": [],
   "source": []
  }
 ],
 "metadata": {
  "kernelspec": {
   "display_name": "Python 3",
   "language": "python",
   "name": "python3"
  },
  "language_info": {
   "codemirror_mode": {
    "name": "ipython",
    "version": 3
   },
   "file_extension": ".py",
   "mimetype": "text/x-python",
   "name": "python",
   "nbconvert_exporter": "python",
   "pygments_lexer": "ipython3",
   "version": "3.10.0"
  },
  "orig_nbformat": 4,
  "vscode": {
   "interpreter": {
    "hash": "d4a811d5ac078233afb31e03e369e37491729ef21c8e6253c2c4b1b285997043"
   }
  }
 },
 "nbformat": 4,
 "nbformat_minor": 2
}
